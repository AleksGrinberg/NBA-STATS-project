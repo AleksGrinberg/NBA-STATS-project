{
 "cells": [
  {
   "cell_type": "code",
   "execution_count": 1,
   "metadata": {},
   "outputs": [],
   "source": [
    "import numpy as np\n",
    "import pandas as pd\n",
    "import matplotlib.pyplot as plt"
   ]
  },
  {
   "cell_type": "code",
   "execution_count": 2,
   "metadata": {},
   "outputs": [],
   "source": [
    "# NBA players stats, season 2022/2023\n",
    "# (I've written code for this analysis in january, but i've loaded more recent data and updated conclusions at the beginning of april.)\n",
    "# Columns : \n",
    "# Player = Player, Team = Team, Age = Age, GP = Games Played, W = Wins, L = Loses, Min = Minutes Played, PTS = Points\n",
    "# FG% = Field Goal Percentage, 3P% = 3 Point Field Goal Percentage, FT% = Free throw percentage, AST = Assists, PF = Personal Fouls"
   ]
  },
  {
   "cell_type": "code",
   "execution_count": 3,
   "metadata": {},
   "outputs": [],
   "source": [
    "player_stats = pd.read_csv('nba_stats.csv')"
   ]
  },
  {
   "attachments": {},
   "cell_type": "markdown",
   "metadata": {},
   "source": [
    "# Basic info about dataset"
   ]
  },
  {
   "cell_type": "code",
   "execution_count": 4,
   "metadata": {},
   "outputs": [
    {
     "data": {
      "text/html": [
       "<div>\n",
       "<style scoped>\n",
       "    .dataframe tbody tr th:only-of-type {\n",
       "        vertical-align: middle;\n",
       "    }\n",
       "\n",
       "    .dataframe tbody tr th {\n",
       "        vertical-align: top;\n",
       "    }\n",
       "\n",
       "    .dataframe thead th {\n",
       "        text-align: right;\n",
       "    }\n",
       "</style>\n",
       "<table border=\"1\" class=\"dataframe\">\n",
       "  <thead>\n",
       "    <tr style=\"text-align: right;\">\n",
       "      <th></th>\n",
       "      <th>Player</th>\n",
       "      <th>Team</th>\n",
       "      <th>Age</th>\n",
       "      <th>GP</th>\n",
       "      <th>W</th>\n",
       "      <th>L</th>\n",
       "      <th>Min</th>\n",
       "      <th>PTS</th>\n",
       "      <th>FG%</th>\n",
       "      <th>3P%</th>\n",
       "      <th>FT%</th>\n",
       "      <th>AST</th>\n",
       "      <th>PF</th>\n",
       "    </tr>\n",
       "  </thead>\n",
       "  <tbody>\n",
       "    <tr>\n",
       "      <th>0</th>\n",
       "      <td>Jayson Tatum</td>\n",
       "      <td>BOS</td>\n",
       "      <td>25</td>\n",
       "      <td>72</td>\n",
       "      <td>51</td>\n",
       "      <td>21</td>\n",
       "      <td>2674.5</td>\n",
       "      <td>2185</td>\n",
       "      <td>46.7</td>\n",
       "      <td>35.4</td>\n",
       "      <td>85.7</td>\n",
       "      <td>332</td>\n",
       "      <td>156</td>\n",
       "    </tr>\n",
       "    <tr>\n",
       "      <th>1</th>\n",
       "      <td>Joel Embiid</td>\n",
       "      <td>PHI</td>\n",
       "      <td>29</td>\n",
       "      <td>64</td>\n",
       "      <td>42</td>\n",
       "      <td>22</td>\n",
       "      <td>2215.1</td>\n",
       "      <td>2110</td>\n",
       "      <td>54.2</td>\n",
       "      <td>33.0</td>\n",
       "      <td>85.8</td>\n",
       "      <td>266</td>\n",
       "      <td>201</td>\n",
       "    </tr>\n",
       "    <tr>\n",
       "      <th>2</th>\n",
       "      <td>Luka Doncic</td>\n",
       "      <td>DAL</td>\n",
       "      <td>24</td>\n",
       "      <td>64</td>\n",
       "      <td>32</td>\n",
       "      <td>32</td>\n",
       "      <td>2339.2</td>\n",
       "      <td>2096</td>\n",
       "      <td>49.8</td>\n",
       "      <td>34.7</td>\n",
       "      <td>74.2</td>\n",
       "      <td>520</td>\n",
       "      <td>162</td>\n",
       "    </tr>\n",
       "    <tr>\n",
       "      <th>3</th>\n",
       "      <td>Shai Gilgeous-Alexander</td>\n",
       "      <td>OKC</td>\n",
       "      <td>24</td>\n",
       "      <td>66</td>\n",
       "      <td>32</td>\n",
       "      <td>34</td>\n",
       "      <td>2344.6</td>\n",
       "      <td>2081</td>\n",
       "      <td>51.0</td>\n",
       "      <td>34.6</td>\n",
       "      <td>90.8</td>\n",
       "      <td>357</td>\n",
       "      <td>184</td>\n",
       "    </tr>\n",
       "    <tr>\n",
       "      <th>4</th>\n",
       "      <td>Julius Randle</td>\n",
       "      <td>NYK</td>\n",
       "      <td>28</td>\n",
       "      <td>77</td>\n",
       "      <td>44</td>\n",
       "      <td>33</td>\n",
       "      <td>2737.3</td>\n",
       "      <td>1936</td>\n",
       "      <td>45.9</td>\n",
       "      <td>34.3</td>\n",
       "      <td>75.7</td>\n",
       "      <td>316</td>\n",
       "      <td>233</td>\n",
       "    </tr>\n",
       "  </tbody>\n",
       "</table>\n",
       "</div>"
      ],
      "text/plain": [
       "                    Player Team  Age  GP   W   L     Min   PTS   FG%   3P%  \\\n",
       "0             Jayson Tatum  BOS   25  72  51  21  2674.5  2185  46.7  35.4   \n",
       "1              Joel Embiid  PHI   29  64  42  22  2215.1  2110  54.2  33.0   \n",
       "2              Luka Doncic  DAL   24  64  32  32  2339.2  2096  49.8  34.7   \n",
       "3  Shai Gilgeous-Alexander  OKC   24  66  32  34  2344.6  2081  51.0  34.6   \n",
       "4            Julius Randle  NYK   28  77  44  33  2737.3  1936  45.9  34.3   \n",
       "\n",
       "    FT%  AST   PF  \n",
       "0  85.7  332  156  \n",
       "1  85.8  266  201  \n",
       "2  74.2  520  162  \n",
       "3  90.8  357  184  \n",
       "4  75.7  316  233  "
      ]
     },
     "execution_count": 4,
     "metadata": {},
     "output_type": "execute_result"
    }
   ],
   "source": [
    "player_stats.head()"
   ]
  },
  {
   "cell_type": "code",
   "execution_count": 5,
   "metadata": {},
   "outputs": [
    {
     "data": {
      "text/plain": [
       "(531, 13)"
      ]
     },
     "execution_count": 5,
     "metadata": {},
     "output_type": "execute_result"
    }
   ],
   "source": [
    "player_stats.shape"
   ]
  },
  {
   "cell_type": "code",
   "execution_count": 22,
   "metadata": {},
   "outputs": [
    {
     "name": "stdout",
     "output_type": "stream",
     "text": [
      "<class 'pandas.core.frame.DataFrame'>\n",
      "RangeIndex: 531 entries, 0 to 530\n",
      "Data columns (total 13 columns):\n",
      " #   Column  Non-Null Count  Dtype  \n",
      "---  ------  --------------  -----  \n",
      " 0   Player  531 non-null    object \n",
      " 1   Team    531 non-null    object \n",
      " 2   Age     531 non-null    int64  \n",
      " 3   GP      531 non-null    int64  \n",
      " 4   W       531 non-null    int64  \n",
      " 5   L       531 non-null    int64  \n",
      " 6   Min     531 non-null    float64\n",
      " 7   PTS     531 non-null    int64  \n",
      " 8   FG%     531 non-null    float64\n",
      " 9   3P%     531 non-null    float64\n",
      " 10  FT%     531 non-null    float64\n",
      " 11  AST     531 non-null    int64  \n",
      " 12  PF      531 non-null    int64  \n",
      "dtypes: float64(4), int64(7), object(2)\n",
      "memory usage: 54.1+ KB\n"
     ]
    }
   ],
   "source": [
    "player_stats.info()"
   ]
  },
  {
   "cell_type": "code",
   "execution_count": 23,
   "metadata": {},
   "outputs": [
    {
     "data": {
      "image/png": "[encoded data removed]",
      "text/plain": [
       "<Figure size 576x576 with 1 Axes>"
      ]
     },
     "metadata": {
      "needs_background": "light"
     },
     "output_type": "display_data"
    }
   ],
   "source": [
    "# Checking if there is unexpected correlation between some columns\n",
    "# Figure shows no special correlations\n",
    "# Existing dependencies are fairly obvious, for example time spend playing in more games increases sum of successfull throws in overall career etc.\n",
    "\n",
    "corr = player_stats.corr()\n",
    "fig = plt.figure(figsize=(8,8))\n",
    "plt.matshow(corr, cmap='RdBu', fignum=fig.number)\n",
    "plt.xticks(range(len(corr.columns)), corr.columns, rotation='vertical');\n",
    "plt.yticks(range(len(corr.columns)), corr.columns);"
   ]
  },
  {
   "cell_type": "code",
   "execution_count": 25,
   "metadata": {},
   "outputs": [
    {
     "data": {
      "text/html": [
       "<div>\n",
       "<style scoped>\n",
       "    .dataframe tbody tr th:only-of-type {\n",
       "        vertical-align: middle;\n",
       "    }\n",
       "\n",
       "    .dataframe tbody tr th {\n",
       "        vertical-align: top;\n",
       "    }\n",
       "\n",
       "    .dataframe thead th {\n",
       "        text-align: right;\n",
       "    }\n",
       "</style>\n",
       "<table border=\"1\" class=\"dataframe\">\n",
       "  <thead>\n",
       "    <tr style=\"text-align: right;\">\n",
       "      <th></th>\n",
       "      <th>Player</th>\n",
       "      <th>PTS</th>\n",
       "    </tr>\n",
       "  </thead>\n",
       "  <tbody>\n",
       "    <tr>\n",
       "      <th>0</th>\n",
       "      <td>Jayson Tatum</td>\n",
       "      <td>2185</td>\n",
       "    </tr>\n",
       "    <tr>\n",
       "      <th>1</th>\n",
       "      <td>Joel Embiid</td>\n",
       "      <td>2110</td>\n",
       "    </tr>\n",
       "    <tr>\n",
       "      <th>2</th>\n",
       "      <td>Luka Doncic</td>\n",
       "      <td>2096</td>\n",
       "    </tr>\n",
       "    <tr>\n",
       "      <th>3</th>\n",
       "      <td>Shai Gilgeous-Alexander</td>\n",
       "      <td>2081</td>\n",
       "    </tr>\n",
       "    <tr>\n",
       "      <th>4</th>\n",
       "      <td>Julius Randle</td>\n",
       "      <td>1936</td>\n",
       "    </tr>\n",
       "    <tr>\n",
       "      <th>5</th>\n",
       "      <td>Giannis Antetokounmpo</td>\n",
       "      <td>1931</td>\n",
       "    </tr>\n",
       "    <tr>\n",
       "      <th>6</th>\n",
       "      <td>Donovan Mitchell</td>\n",
       "      <td>1879</td>\n",
       "    </tr>\n",
       "    <tr>\n",
       "      <th>7</th>\n",
       "      <td>Damian Lillard</td>\n",
       "      <td>1866</td>\n",
       "    </tr>\n",
       "    <tr>\n",
       "      <th>8</th>\n",
       "      <td>Anthony Edwards</td>\n",
       "      <td>1864</td>\n",
       "    </tr>\n",
       "    <tr>\n",
       "      <th>9</th>\n",
       "      <td>Trae Young</td>\n",
       "      <td>1862</td>\n",
       "    </tr>\n",
       "  </tbody>\n",
       "</table>\n",
       "</div>"
      ],
      "text/plain": [
       "                    Player   PTS\n",
       "0             Jayson Tatum  2185\n",
       "1              Joel Embiid  2110\n",
       "2              Luka Doncic  2096\n",
       "3  Shai Gilgeous-Alexander  2081\n",
       "4            Julius Randle  1936\n",
       "5    Giannis Antetokounmpo  1931\n",
       "6         Donovan Mitchell  1879\n",
       "7           Damian Lillard  1866\n",
       "8          Anthony Edwards  1864\n",
       "9               Trae Young  1862"
      ]
     },
     "execution_count": 25,
     "metadata": {},
     "output_type": "execute_result"
    }
   ],
   "source": [
    "# Ten players with highest points score in current season\n",
    "\n",
    "player_stats[[\"Player\",\"PTS\"]].sort_values(by='PTS', ascending=False).head(10)"
   ]
  },
  {
   "cell_type": "code",
   "execution_count": 26,
   "metadata": {},
   "outputs": [
    {
     "data": {
      "text/html": [
       "<div>\n",
       "<style scoped>\n",
       "    .dataframe tbody tr th:only-of-type {\n",
       "        vertical-align: middle;\n",
       "    }\n",
       "\n",
       "    .dataframe tbody tr th {\n",
       "        vertical-align: top;\n",
       "    }\n",
       "\n",
       "    .dataframe thead th {\n",
       "        text-align: right;\n",
       "    }\n",
       "</style>\n",
       "<table border=\"1\" class=\"dataframe\">\n",
       "  <thead>\n",
       "    <tr style=\"text-align: right;\">\n",
       "      <th></th>\n",
       "      <th>Player</th>\n",
       "      <th>AST</th>\n",
       "    </tr>\n",
       "  </thead>\n",
       "  <tbody>\n",
       "    <tr>\n",
       "      <th>9</th>\n",
       "      <td>Trae Young</td>\n",
       "      <td>705</td>\n",
       "    </tr>\n",
       "    <tr>\n",
       "      <th>15</th>\n",
       "      <td>Nikola Jokic</td>\n",
       "      <td>664</td>\n",
       "    </tr>\n",
       "    <tr>\n",
       "      <th>60</th>\n",
       "      <td>James Harden</td>\n",
       "      <td>604</td>\n",
       "    </tr>\n",
       "    <tr>\n",
       "      <th>66</th>\n",
       "      <td>Tyrese Haliburton</td>\n",
       "      <td>585</td>\n",
       "    </tr>\n",
       "    <tr>\n",
       "      <th>29</th>\n",
       "      <td>Domantas Sabonis</td>\n",
       "      <td>546</td>\n",
       "    </tr>\n",
       "    <tr>\n",
       "      <th>75</th>\n",
       "      <td>Russell Westbrook</td>\n",
       "      <td>532</td>\n",
       "    </tr>\n",
       "    <tr>\n",
       "      <th>27</th>\n",
       "      <td>Darius Garland</td>\n",
       "      <td>528</td>\n",
       "    </tr>\n",
       "    <tr>\n",
       "      <th>2</th>\n",
       "      <td>Luka Doncic</td>\n",
       "      <td>520</td>\n",
       "    </tr>\n",
       "    <tr>\n",
       "      <th>125</th>\n",
       "      <td>Chris Paul</td>\n",
       "      <td>519</td>\n",
       "    </tr>\n",
       "    <tr>\n",
       "      <th>193</th>\n",
       "      <td>Draymond Green</td>\n",
       "      <td>486</td>\n",
       "    </tr>\n",
       "  </tbody>\n",
       "</table>\n",
       "</div>"
      ],
      "text/plain": [
       "                Player  AST\n",
       "9           Trae Young  705\n",
       "15        Nikola Jokic  664\n",
       "60        James Harden  604\n",
       "66   Tyrese Haliburton  585\n",
       "29    Domantas Sabonis  546\n",
       "75   Russell Westbrook  532\n",
       "27      Darius Garland  528\n",
       "2          Luka Doncic  520\n",
       "125         Chris Paul  519\n",
       "193     Draymond Green  486"
      ]
     },
     "execution_count": 26,
     "metadata": {},
     "output_type": "execute_result"
    }
   ],
   "source": [
    "# Ten players with greatest number of assists in current season\n",
    "\n",
    "player_stats[[\"Player\",\"AST\"]].sort_values(by='AST', ascending=False).head(10)"
   ]
  },
  {
   "cell_type": "code",
   "execution_count": 27,
   "metadata": {},
   "outputs": [
    {
     "data": {
      "image/png": "[encoded data removed]",
      "text/plain": [
       "<Figure size 864x432 with 1 Axes>"
      ]
     },
     "metadata": {
      "needs_background": "light"
     },
     "output_type": "display_data"
    }
   ],
   "source": [
    "# Players who foul most often in current season (turns out they commit fouls 2 times more than average player)\n",
    "\n",
    "PF_rank = player_stats[[\"Player\",\"PF\"]].sort_values(by='PF', ascending=False).head(5)\n",
    "plt.figure(figsize=(12,6))\n",
    "plt.bar(PF_rank[\"Player\"],PF_rank[\"PF\"])\n",
    "plt.axhline(y=player_stats[\"PF\"].mean(), color='red', linestyle='--', label='Average number of all players personal fouls')\n",
    "plt.legend()\n",
    "plt.show()"
   ]
  },
  {
   "attachments": {},
   "cell_type": "markdown",
   "metadata": {},
   "source": [
    "# Players age"
   ]
  },
  {
   "cell_type": "code",
   "execution_count": 28,
   "metadata": {},
   "outputs": [
    {
     "data": {
      "text/plain": [
       "<AxesSubplot:>"
      ]
     },
     "execution_count": 28,
     "metadata": {},
     "output_type": "execute_result"
    },
    {
     "data": {
      "image/png": "[encoded data removed]",
      "text/plain": [
       "<Figure size 1008x432 with 1 Axes>"
      ]
     },
     "metadata": {
      "needs_background": "light"
     },
     "output_type": "display_data"
    }
   ],
   "source": [
    "# Players age shown on box chart, interquartile range shows that 50 % of players are 23-29 years old\n",
    "# Youngest players are 19 years old, oldest one is 42 and median is equal to 25 years old.\n",
    "\n",
    "player_stats['Age'].plot(kind='box', vert=False, figsize=(14,6))"
   ]
  },
  {
   "cell_type": "code",
   "execution_count": 30,
   "metadata": {},
   "outputs": [
    {
     "data": {
      "text/html": [
       "<div>\n",
       "<style scoped>\n",
       "    .dataframe tbody tr th:only-of-type {\n",
       "        vertical-align: middle;\n",
       "    }\n",
       "\n",
       "    .dataframe tbody tr th {\n",
       "        vertical-align: top;\n",
       "    }\n",
       "\n",
       "    .dataframe thead th {\n",
       "        text-align: right;\n",
       "    }\n",
       "</style>\n",
       "<table border=\"1\" class=\"dataframe\">\n",
       "  <thead>\n",
       "    <tr style=\"text-align: right;\">\n",
       "      <th></th>\n",
       "      <th>Player</th>\n",
       "      <th>Team</th>\n",
       "      <th>Age</th>\n",
       "      <th>GP</th>\n",
       "      <th>W</th>\n",
       "      <th>L</th>\n",
       "      <th>Min</th>\n",
       "      <th>PTS</th>\n",
       "      <th>FG%</th>\n",
       "      <th>3P%</th>\n",
       "      <th>FT%</th>\n",
       "      <th>AST</th>\n",
       "      <th>PF</th>\n",
       "    </tr>\n",
       "  </thead>\n",
       "  <tbody>\n",
       "    <tr>\n",
       "      <th>514</th>\n",
       "      <td>Udonis Haslem</td>\n",
       "      <td>MIA</td>\n",
       "      <td>42</td>\n",
       "      <td>6</td>\n",
       "      <td>3</td>\n",
       "      <td>3</td>\n",
       "      <td>47.2</td>\n",
       "      <td>3</td>\n",
       "      <td>8.3</td>\n",
       "      <td>0.0</td>\n",
       "      <td>50.0</td>\n",
       "      <td>0</td>\n",
       "      <td>8</td>\n",
       "    </tr>\n",
       "  </tbody>\n",
       "</table>\n",
       "</div>"
      ],
      "text/plain": [
       "            Player Team  Age  GP  W  L   Min  PTS  FG%  3P%   FT%  AST  PF\n",
       "514  Udonis Haslem  MIA   42   6  3  3  47.2    3  8.3  0.0  50.0    0   8"
      ]
     },
     "execution_count": 30,
     "metadata": {},
     "output_type": "execute_result"
    }
   ],
   "source": [
    "# Statistics of Udonis Haslem, oldest player in current season\n",
    "\n",
    "player_stats[player_stats['Age']>40]"
   ]
  },
  {
   "cell_type": "code",
   "execution_count": 31,
   "metadata": {},
   "outputs": [
    {
     "data": {
      "text/plain": [
       "25.930320150659135"
      ]
     },
     "execution_count": 31,
     "metadata": {},
     "output_type": "execute_result"
    }
   ],
   "source": [
    "# Average players age\n",
    "\n",
    "player_stats['Age'].mean()"
   ]
  },
  {
   "cell_type": "code",
   "execution_count": 33,
   "metadata": {},
   "outputs": [
    {
     "data": {
      "image/png": "[encoded data removed]",
      "text/plain": [
       "<Figure size 432x432 with 1 Axes>"
      ]
     },
     "metadata": {},
     "output_type": "display_data"
    }
   ],
   "source": [
    "# Pie plot showcases that players with age in range of 21-26 consist of over half of all players\n",
    "\n",
    "player_stats['Age'].value_counts().plot(kind='pie', figsize=(6,6));"
   ]
  },
  {
   "cell_type": "code",
   "execution_count": 34,
   "metadata": {},
   "outputs": [
    {
     "data": {
      "image/png": "[encoded data removed]",
      "text/plain": [
       "<Figure size 1008x576 with 1 Axes>"
      ]
     },
     "metadata": {
      "needs_background": "light"
     },
     "output_type": "display_data"
    }
   ],
   "source": [
    "# Plot showing players age on x axis and their average scores on y axis.\n",
    "# On first glance it may lead to conclusion that players who are for example 19 and 20 years\n",
    "# old are having worse stats than other age groups, but it is most probably caused by\n",
    "# the fact that these players are just starting the career and they are allowed on basketball court\n",
    "# just for a short ammount of time. \n",
    "\n",
    "\n",
    "player_stats['points_per_game_avg'] = player_stats['PTS'] / player_stats['GP']\n",
    "player_stats.plot(kind='scatter', x='Age', y='points_per_game_avg', figsize=(14,8));"
   ]
  },
  {
   "attachments": {},
   "cell_type": "markdown",
   "metadata": {},
   "source": [
    "# Other statistics"
   ]
  },
  {
   "cell_type": "code",
   "execution_count": 36,
   "metadata": {},
   "outputs": [
    {
     "data": {
      "text/plain": [
       "9017"
      ]
     },
     "execution_count": 36,
     "metadata": {},
     "output_type": "execute_result"
    }
   ],
   "source": [
    "# All points earned in the current season by Dallas Mavericks \n",
    "\n",
    "player_stats[player_stats['Team']=='DAL']['PTS'].sum()"
   ]
  },
  {
   "cell_type": "code",
   "execution_count": 37,
   "metadata": {},
   "outputs": [
    {
     "data": {
      "text/plain": [
       "BOS    2\n",
       "CLE    2\n",
       "GSW    2\n",
       "CHI    2\n",
       "SAC    2\n",
       "NYK    2\n",
       "DAL    2\n",
       "MIL    1\n",
       "NOP    1\n",
       "MIA    1\n",
       "WAS    1\n",
       "MEM    1\n",
       "BKN    1\n",
       "HOU    1\n",
       "TOR    1\n",
       "DEN    1\n",
       "UTA    1\n",
       "PHI    1\n",
       "OKC    1\n",
       "ATL    1\n",
       "MIN    1\n",
       "POR    1\n",
       "LAL    1\n",
       "Name: Team, dtype: int64"
      ]
     },
     "execution_count": 37,
     "metadata": {},
     "output_type": "execute_result"
    }
   ],
   "source": [
    "# Searching for which teams the very best players play for\n",
    "# It is shown that there is no particular team consisting of the best players\n",
    "# Rather, most of the teams have at least 1 player who is in top 30 (points scored in season) \n",
    "\n",
    "Teams1 = player_stats['Team'].value_counts()\n",
    "teams = player_stats[['Player','Team','PTS']].sort_values(by='PTS', ascending=False).head(30)\n",
    "teams['Team'].value_counts()"
   ]
  },
  {
   "cell_type": "code",
   "execution_count": 38,
   "metadata": {},
   "outputs": [
    {
     "name": "stderr",
     "output_type": "stream",
     "text": [
      "C:\\Users\\EURO\\AppData\\Local\\Temp\\ipykernel_9260\\3403542312.py:4: UserWarning: Boolean Series key will be reindexed to match DataFrame index.\n",
      "  t1[player_stats['GP']>10]\n"
     ]
    },
    {
     "data": {
      "text/html": [
       "<div>\n",
       "<style scoped>\n",
       "    .dataframe tbody tr th:only-of-type {\n",
       "        vertical-align: middle;\n",
       "    }\n",
       "\n",
       "    .dataframe tbody tr th {\n",
       "        vertical-align: top;\n",
       "    }\n",
       "\n",
       "    .dataframe thead th {\n",
       "        text-align: right;\n",
       "    }\n",
       "</style>\n",
       "<table border=\"1\" class=\"dataframe\">\n",
       "  <thead>\n",
       "    <tr style=\"text-align: right;\">\n",
       "      <th></th>\n",
       "      <th>Player</th>\n",
       "      <th>Team</th>\n",
       "      <th>3P%</th>\n",
       "    </tr>\n",
       "  </thead>\n",
       "  <tbody>\n",
       "    <tr>\n",
       "      <th>354</th>\n",
       "      <td>DeAndre Jordan</td>\n",
       "      <td>DEN</td>\n",
       "      <td>100.0</td>\n",
       "    </tr>\n",
       "    <tr>\n",
       "      <th>219</th>\n",
       "      <td>Nick Richards</td>\n",
       "      <td>CHA</td>\n",
       "      <td>100.0</td>\n",
       "    </tr>\n",
       "    <tr>\n",
       "      <th>405</th>\n",
       "      <td>Robin Lopez</td>\n",
       "      <td>CLE</td>\n",
       "      <td>66.7</td>\n",
       "    </tr>\n",
       "    <tr>\n",
       "      <th>391</th>\n",
       "      <td>Richaun Holmes</td>\n",
       "      <td>SAC</td>\n",
       "      <td>66.7</td>\n",
       "    </tr>\n",
       "    <tr>\n",
       "      <th>441</th>\n",
       "      <td>Peyton Watson</td>\n",
       "      <td>DEN</td>\n",
       "      <td>62.5</td>\n",
       "    </tr>\n",
       "  </tbody>\n",
       "</table>\n",
       "</div>"
      ],
      "text/plain": [
       "             Player Team    3P%\n",
       "354  DeAndre Jordan  DEN  100.0\n",
       "219   Nick Richards  CHA  100.0\n",
       "405     Robin Lopez  CLE   66.7\n",
       "391  Richaun Holmes  SAC   66.7\n",
       "441   Peyton Watson  DEN   62.5"
      ]
     },
     "execution_count": 38,
     "metadata": {},
     "output_type": "execute_result"
    }
   ],
   "source": [
    "# Players with the best three-point throw accurancy (who played in at least 10 games)\n",
    "\n",
    "t1 = player_stats[['Player','Team','3P%']].sort_values(by='3P%', ascending=False).head(10)\n",
    "t1[player_stats['GP']>10]"
   ]
  },
  {
   "cell_type": "code",
   "execution_count": 40,
   "metadata": {},
   "outputs": [
    {
     "name": "stderr",
     "output_type": "stream",
     "text": [
      "C:\\Users\\EURO\\AppData\\Local\\Temp\\ipykernel_9260\\4284231631.py:6: UserWarning: Boolean Series key will be reindexed to match DataFrame index.\n",
      "  t2 = t1[player_stats['GP']>10]\n"
     ]
    },
    {
     "data": {
      "image/png": "[encoded data removed]",
      "text/plain": [
       "<Figure size 864x432 with 1 Axes>"
      ]
     },
     "metadata": {
      "needs_background": "light"
     },
     "output_type": "display_data"
    }
   ],
   "source": [
    "# Line chart showcasing free throws accurancy of all players in current season. \n",
    "# It seems that most of the players have accurancy of 70% (or more) of successful free throws made\n",
    "\n",
    "t1 = player_stats[['Player','Team','FT%']].sort_values(by='FT%', ascending=False)\n",
    "ft_mean = t1['FT%'].mean()\n",
    "t2 = t1[player_stats['GP']>10]\n",
    "plt.figure(figsize=(12,6))\n",
    "plt.plot(t2['Player'],t2['FT%'])\n",
    "plt.axhline(y=ft_mean, color='red', linestyle='--', label='Free throws mean value')\n",
    "plt.xticks([])\n",
    "plt.legend()\n",
    "plt.show()"
   ]
  },
  {
   "cell_type": "code",
   "execution_count": null,
   "metadata": {},
   "outputs": [],
   "source": []
  }
 ],
 "metadata": {
  "kernelspec": {
   "display_name": "Python 3",
   "language": "python",
   "name": "python3"
  },
  "language_info": {
   "codemirror_mode": {
    "name": "ipython",
    "version": 3
   },
   "file_extension": ".py",
   "mimetype": "text/x-python",
   "name": "python",
   "nbconvert_exporter": "python",
   "pygments_lexer": "ipython3",
   "version": "3.10.2"
  },
  "orig_nbformat": 4
 },
 "nbformat": 4,
 "nbformat_minor": 2
}
