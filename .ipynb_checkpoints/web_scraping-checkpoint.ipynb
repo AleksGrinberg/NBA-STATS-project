{
 "cells": [
  {
   "cell_type": "code",
   "execution_count": 2,
   "metadata": {},
   "outputs": [],
   "source": [
    "# Importing selenium library which is needed for clicking button on website automatically\n",
    "from selenium import webdriver\n",
    "from selenium.webdriver.support.ui import Select\n",
    "from selenium.webdriver.common.by import By\n",
    "from selenium.webdriver.chrome.service import Service\n",
    "\n",
    "# Downloading BeautifulSoup & Pandas libraries for webscraping and data processing\n",
    "from bs4 import BeautifulSoup\n",
    "import pandas as pd \n",
    "\n",
    "# Using selenium to click \"All\" button on website, so table shows all players\n",
    "s = Service(r\"C:\\Program Files\\chromedriver2\\chromedriver\")\n",
    "driver = webdriver.Chrome(service=s)\n",
    "URL = r\"https://www.nba.com/stats/players/traditional?PerMode=Totals\"\n",
    "driver.get(URL)\n",
    "select = Select(driver.find_element(by=By.XPATH, value=r\"/html/body/div[1]/div[2]/div[2]/div[3]/section[2]/div/div[2]/div[2]/div[1]/div[3]/div/label/div/select\"))\n",
    "select.select_by_index(0)\n",
    "\n",
    "# Using selenium to download and BeautifulSoup to scrape data\n",
    "src = driver.page_source\n",
    "parser = BeautifulSoup(src,\"lxml\")\n",
    "table = parser.find(\"table\", attrs = {\"class\":\"Crom_table__p1iZz\"})\n",
    "headers = table.findAll('th')\n",
    "header_list = [h.text.strip() for h in headers[1:]]\n",
    "header_list_2 = [a for a in header_list if not 'RANK' in a]\n",
    "rows = table.findAll('tr')[1:]\n",
    "player_stats = [[td.getText().strip() for td in rows[i].findAll('td')[1:]] for i in range(len(rows))]\n",
    "STATS = pd.DataFrame(player_stats, columns = header_list_2)\n",
    "\n",
    "# Saving selected columns into csv file\n",
    "SELECTION = [\"Player\",\"Team\",\"Age\",\"GP\",\"W\",\"L\",\"Min\",\"PTS\",\"FG%\",\"3P%\",\"FT%\",\"AST\",\"PF\"]\n",
    "SELECTED_STATS = STATS[SELECTION]\n",
    "SELECTED_STATS.to_csv('nba_stats.csv', index=False)\n"
   ]
  },
  {
   "cell_type": "code",
   "execution_count": null,
   "metadata": {},
   "outputs": [],
   "source": []
  }
 ],
 "metadata": {
  "kernelspec": {
   "display_name": "Python 3",
   "language": "python",
   "name": "python3"
  },
  "language_info": {
   "codemirror_mode": {
    "name": "ipython",
    "version": 3
   },
   "file_extension": ".py",
   "mimetype": "text/x-python",
   "name": "python",
   "nbconvert_exporter": "python",
   "pygments_lexer": "ipython3",
   "version": "3.10.2"
  },
  "orig_nbformat": 4
 },
 "nbformat": 4,
 "nbformat_minor": 2
}
